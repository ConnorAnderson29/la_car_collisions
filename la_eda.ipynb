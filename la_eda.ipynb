{
 "cells": [
  {
   "cell_type": "markdown",
   "metadata": {},
   "source": [
    "# Intial Data Exploration"
   ]
  },
  {
   "cell_type": "code",
   "execution_count": 1,
   "metadata": {},
   "outputs": [],
   "source": [
    "import pandas as pd\n",
    "import numpy as np\n",
    "import matplotlib.pyplot as plt\n",
    "import seaborn as sns"
   ]
  },
  {
   "cell_type": "code",
   "execution_count": 35,
   "metadata": {},
   "outputs": [],
   "source": [
    "from sklearn.model_selection import train_test_split, cross_val_score\n",
    "from sklearn.metrics import accuracy_score, confusion_matrix, classification_report\n",
    "from sklearn.tree import DecisionTreeClassifier\n",
    "from sklearn.ensemble import BaggingClassifier, RandomForestClassifier, GradientBoostingClassifier\n",
    "from sklearn.preprocessing import OneHotEncoder\n",
    "from sklearn_pandas import DataFrameMapper, FunctionTransformer, gen_features, pipeline\n",
    "from sklearn_pandas.pipeline import Pipeline\n",
    "from sklearn.compose import ColumnTransformer\n",
    "import seaborn as sns\n",
    "from sklearn.metrics import f1_score, accuracy_score, roc_auc_score\n",
    "from sklearn.preprocessing import LabelBinarizer\n",
    "import xgboost as xgb\n",
    "import os"
   ]
  },
  {
   "cell_type": "code",
   "execution_count": 2,
   "metadata": {},
   "outputs": [],
   "source": [
    "data = pd.read_csv('Traffic_Collision_Data_from_2010_to_Present.csv')"
   ]
  },
  {
   "cell_type": "code",
   "execution_count": 8,
   "metadata": {},
   "outputs": [
    {
     "data": {
      "text/html": [
       "<div>\n",
       "<style scoped>\n",
       "    .dataframe tbody tr th:only-of-type {\n",
       "        vertical-align: middle;\n",
       "    }\n",
       "\n",
       "    .dataframe tbody tr th {\n",
       "        vertical-align: top;\n",
       "    }\n",
       "\n",
       "    .dataframe thead th {\n",
       "        text-align: right;\n",
       "    }\n",
       "</style>\n",
       "<table border=\"1\" class=\"dataframe\">\n",
       "  <thead>\n",
       "    <tr style=\"text-align: right;\">\n",
       "      <th></th>\n",
       "      <th>DR Number</th>\n",
       "      <th>Date Reported</th>\n",
       "      <th>Date Occurred</th>\n",
       "      <th>Time Occurred</th>\n",
       "      <th>Area ID</th>\n",
       "      <th>Area Name</th>\n",
       "      <th>Reporting District</th>\n",
       "      <th>Crime Code</th>\n",
       "      <th>Crime Code Description</th>\n",
       "      <th>Victim Age</th>\n",
       "      <th>Victim Sex</th>\n",
       "      <th>Victim Descent</th>\n",
       "      <th>Premise Code</th>\n",
       "      <th>Premise Description</th>\n",
       "      <th>Address</th>\n",
       "      <th>Cross Street</th>\n",
       "      <th>Location</th>\n",
       "    </tr>\n",
       "  </thead>\n",
       "  <tbody>\n",
       "    <tr>\n",
       "      <th>0</th>\n",
       "      <td>190914310</td>\n",
       "      <td>07/26/2019</td>\n",
       "      <td>07/26/2019</td>\n",
       "      <td>1440</td>\n",
       "      <td>9</td>\n",
       "      <td>Van Nuys</td>\n",
       "      <td>932</td>\n",
       "      <td>997</td>\n",
       "      <td>TRAFFIC COLLISION</td>\n",
       "      <td>17.0</td>\n",
       "      <td>F</td>\n",
       "      <td>O</td>\n",
       "      <td>101.0</td>\n",
       "      <td>STREET</td>\n",
       "      <td>KESTER</td>\n",
       "      <td>FRIAR                        ST</td>\n",
       "      <td>(34.1857, -118.4575)</td>\n",
       "    </tr>\n",
       "    <tr>\n",
       "      <th>1</th>\n",
       "      <td>191914015</td>\n",
       "      <td>07/26/2019</td>\n",
       "      <td>07/26/2019</td>\n",
       "      <td>1850</td>\n",
       "      <td>19</td>\n",
       "      <td>Mission</td>\n",
       "      <td>1944</td>\n",
       "      <td>997</td>\n",
       "      <td>TRAFFIC COLLISION</td>\n",
       "      <td>63.0</td>\n",
       "      <td>M</td>\n",
       "      <td>H</td>\n",
       "      <td>101.0</td>\n",
       "      <td>STREET</td>\n",
       "      <td>LAUREL CANYON                BL</td>\n",
       "      <td>BRAND                        ST</td>\n",
       "      <td>(34.2748, -118.4492)</td>\n",
       "    </tr>\n",
       "    <tr>\n",
       "      <th>2</th>\n",
       "      <td>191913983</td>\n",
       "      <td>07/26/2019</td>\n",
       "      <td>07/26/2019</td>\n",
       "      <td>310</td>\n",
       "      <td>19</td>\n",
       "      <td>Mission</td>\n",
       "      <td>1935</td>\n",
       "      <td>997</td>\n",
       "      <td>TRAFFIC COLLISION</td>\n",
       "      <td>35.0</td>\n",
       "      <td>M</td>\n",
       "      <td>H</td>\n",
       "      <td>101.0</td>\n",
       "      <td>STREET</td>\n",
       "      <td>SAN FERNANDO                 RD</td>\n",
       "      <td>SIERRA                       HY</td>\n",
       "      <td>(34.2752, -118.4603)</td>\n",
       "    </tr>\n",
       "    <tr>\n",
       "      <th>3</th>\n",
       "      <td>190914305</td>\n",
       "      <td>07/26/2019</td>\n",
       "      <td>07/26/2019</td>\n",
       "      <td>1550</td>\n",
       "      <td>9</td>\n",
       "      <td>Van Nuys</td>\n",
       "      <td>919</td>\n",
       "      <td>997</td>\n",
       "      <td>TRAFFIC COLLISION</td>\n",
       "      <td>39.0</td>\n",
       "      <td>F</td>\n",
       "      <td>B</td>\n",
       "      <td>101.0</td>\n",
       "      <td>STREET</td>\n",
       "      <td>WOODMAN</td>\n",
       "      <td>VANOWEN</td>\n",
       "      <td>(34.194, -118.4312)</td>\n",
       "    </tr>\n",
       "    <tr>\n",
       "      <th>4</th>\n",
       "      <td>190714229</td>\n",
       "      <td>07/26/2019</td>\n",
       "      <td>07/26/2019</td>\n",
       "      <td>1425</td>\n",
       "      <td>7</td>\n",
       "      <td>Wilshire</td>\n",
       "      <td>758</td>\n",
       "      <td>997</td>\n",
       "      <td>TRAFFIC COLLISION</td>\n",
       "      <td>24.0</td>\n",
       "      <td>F</td>\n",
       "      <td>H</td>\n",
       "      <td>108.0</td>\n",
       "      <td>PARKING LOT</td>\n",
       "      <td>PICO                         BL</td>\n",
       "      <td>QUEEN ANNE</td>\n",
       "      <td>(34.0485, -118.3334)</td>\n",
       "    </tr>\n",
       "  </tbody>\n",
       "</table>\n",
       "</div>"
      ],
      "text/plain": [
       "   DR Number Date Reported Date Occurred  Time Occurred  Area ID Area Name  \\\n",
       "0  190914310    07/26/2019    07/26/2019           1440        9  Van Nuys   \n",
       "1  191914015    07/26/2019    07/26/2019           1850       19   Mission   \n",
       "2  191913983    07/26/2019    07/26/2019            310       19   Mission   \n",
       "3  190914305    07/26/2019    07/26/2019           1550        9  Van Nuys   \n",
       "4  190714229    07/26/2019    07/26/2019           1425        7  Wilshire   \n",
       "\n",
       "   Reporting District  Crime Code Crime Code Description  Victim Age  \\\n",
       "0                 932         997      TRAFFIC COLLISION        17.0   \n",
       "1                1944         997      TRAFFIC COLLISION        63.0   \n",
       "2                1935         997      TRAFFIC COLLISION        35.0   \n",
       "3                 919         997      TRAFFIC COLLISION        39.0   \n",
       "4                 758         997      TRAFFIC COLLISION        24.0   \n",
       "\n",
       "  Victim Sex Victim Descent  Premise Code Premise Description  \\\n",
       "0          F              O         101.0              STREET   \n",
       "1          M              H         101.0              STREET   \n",
       "2          M              H         101.0              STREET   \n",
       "3          F              B         101.0              STREET   \n",
       "4          F              H         108.0         PARKING LOT   \n",
       "\n",
       "                           Address                     Cross Street  \\\n",
       "0                           KESTER  FRIAR                        ST   \n",
       "1  LAUREL CANYON                BL  BRAND                        ST   \n",
       "2  SAN FERNANDO                 RD  SIERRA                       HY   \n",
       "3                          WOODMAN                          VANOWEN   \n",
       "4  PICO                         BL                       QUEEN ANNE   \n",
       "\n",
       "               Location  \n",
       "0  (34.1857, -118.4575)  \n",
       "1  (34.2748, -118.4492)  \n",
       "2  (34.2752, -118.4603)  \n",
       "3   (34.194, -118.4312)  \n",
       "4  (34.0485, -118.3334)  "
      ]
     },
     "execution_count": 8,
     "metadata": {},
     "output_type": "execute_result"
    }
   ],
   "source": [
    "data.head()"
   ]
  },
  {
   "cell_type": "code",
   "execution_count": 4,
   "metadata": {},
   "outputs": [
    {
     "name": "stdout",
     "output_type": "stream",
     "text": [
      "<class 'pandas.core.frame.DataFrame'>\n",
      "RangeIndex: 482651 entries, 0 to 482650\n",
      "Data columns (total 18 columns):\n",
      "DR Number                 482651 non-null int64\n",
      "Date Reported             482651 non-null object\n",
      "Date Occurred             482651 non-null object\n",
      "Time Occurred             482651 non-null int64\n",
      "Area ID                   482651 non-null int64\n",
      "Area Name                 482651 non-null object\n",
      "Reporting District        482651 non-null int64\n",
      "Crime Code                482651 non-null int64\n",
      "Crime Code Description    482651 non-null object\n",
      "MO Codes                  397343 non-null object\n",
      "Victim Age                405049 non-null float64\n",
      "Victim Sex                475592 non-null object\n",
      "Victim Descent            474858 non-null object\n",
      "Premise Code              482626 non-null float64\n",
      "Premise Description       482626 non-null object\n",
      "Address                   482651 non-null object\n",
      "Cross Street              460975 non-null object\n",
      "Location                  482651 non-null object\n",
      "dtypes: float64(2), int64(5), object(11)\n",
      "memory usage: 66.3+ MB\n"
     ]
    }
   ],
   "source": [
    "data.info()"
   ]
  },
  {
   "cell_type": "code",
   "execution_count": 5,
   "metadata": {},
   "outputs": [
    {
     "data": {
      "text/plain": [
       "1328"
      ]
     },
     "execution_count": 5,
     "metadata": {},
     "output_type": "execute_result"
    }
   ],
   "source": [
    "len(data['Reporting District'].unique())"
   ]
  },
  {
   "cell_type": "code",
   "execution_count": 6,
   "metadata": {},
   "outputs": [
    {
     "data": {
      "text/plain": [
       "77th Street    30409\n",
       "Southwest      28292\n",
       "Wilshire       27742\n",
       "West LA        26244\n",
       "N Hollywood    25745\n",
       "Olympic        25685\n",
       "Pacific        25519\n",
       "Van Nuys       24418\n",
       "Newton         23921\n",
       "Devonshire     23819\n",
       "Hollywood      23637\n",
       "West Valley    23431\n",
       "Northeast      22132\n",
       "Mission        21123\n",
       "Topanga        21010\n",
       "Central        19608\n",
       "Southeast      19424\n",
       "Rampart        18183\n",
       "Harbor         18016\n",
       "Hollenbeck     17568\n",
       "Foothill       16725\n",
       "Name: Area Name, dtype: int64"
      ]
     },
     "execution_count": 6,
     "metadata": {},
     "output_type": "execute_result"
    }
   ],
   "source": [
    "data['Area Name'].value_counts()"
   ]
  },
  {
   "cell_type": "code",
   "execution_count": 7,
   "metadata": {},
   "outputs": [],
   "source": [
    "data = data.drop(['MO Codes'],axis=1)"
   ]
  },
  {
   "cell_type": "code",
   "execution_count": 9,
   "metadata": {},
   "outputs": [
    {
     "data": {
      "text/html": [
       "<div>\n",
       "<style scoped>\n",
       "    .dataframe tbody tr th:only-of-type {\n",
       "        vertical-align: middle;\n",
       "    }\n",
       "\n",
       "    .dataframe tbody tr th {\n",
       "        vertical-align: top;\n",
       "    }\n",
       "\n",
       "    .dataframe thead th {\n",
       "        text-align: right;\n",
       "    }\n",
       "</style>\n",
       "<table border=\"1\" class=\"dataframe\">\n",
       "  <thead>\n",
       "    <tr style=\"text-align: right;\">\n",
       "      <th></th>\n",
       "      <th>DR Number</th>\n",
       "      <th>Date Reported</th>\n",
       "      <th>Date Occurred</th>\n",
       "      <th>Time Occurred</th>\n",
       "      <th>Area ID</th>\n",
       "      <th>Area Name</th>\n",
       "      <th>Reporting District</th>\n",
       "      <th>Crime Code</th>\n",
       "      <th>Crime Code Description</th>\n",
       "      <th>Victim Age</th>\n",
       "      <th>Victim Sex</th>\n",
       "      <th>Victim Descent</th>\n",
       "      <th>Premise Code</th>\n",
       "      <th>Premise Description</th>\n",
       "      <th>Address</th>\n",
       "      <th>Cross Street</th>\n",
       "      <th>Location</th>\n",
       "    </tr>\n",
       "  </thead>\n",
       "  <tbody>\n",
       "    <tr>\n",
       "      <th>0</th>\n",
       "      <td>190914310</td>\n",
       "      <td>07/26/2019</td>\n",
       "      <td>07/26/2019</td>\n",
       "      <td>1440</td>\n",
       "      <td>9</td>\n",
       "      <td>Van Nuys</td>\n",
       "      <td>932</td>\n",
       "      <td>997</td>\n",
       "      <td>TRAFFIC COLLISION</td>\n",
       "      <td>17.0</td>\n",
       "      <td>F</td>\n",
       "      <td>O</td>\n",
       "      <td>101.0</td>\n",
       "      <td>STREET</td>\n",
       "      <td>KESTER</td>\n",
       "      <td>FRIAR                        ST</td>\n",
       "      <td>(34.1857, -118.4575)</td>\n",
       "    </tr>\n",
       "    <tr>\n",
       "      <th>1</th>\n",
       "      <td>191914015</td>\n",
       "      <td>07/26/2019</td>\n",
       "      <td>07/26/2019</td>\n",
       "      <td>1850</td>\n",
       "      <td>19</td>\n",
       "      <td>Mission</td>\n",
       "      <td>1944</td>\n",
       "      <td>997</td>\n",
       "      <td>TRAFFIC COLLISION</td>\n",
       "      <td>63.0</td>\n",
       "      <td>M</td>\n",
       "      <td>H</td>\n",
       "      <td>101.0</td>\n",
       "      <td>STREET</td>\n",
       "      <td>LAUREL CANYON                BL</td>\n",
       "      <td>BRAND                        ST</td>\n",
       "      <td>(34.2748, -118.4492)</td>\n",
       "    </tr>\n",
       "    <tr>\n",
       "      <th>2</th>\n",
       "      <td>191913983</td>\n",
       "      <td>07/26/2019</td>\n",
       "      <td>07/26/2019</td>\n",
       "      <td>310</td>\n",
       "      <td>19</td>\n",
       "      <td>Mission</td>\n",
       "      <td>1935</td>\n",
       "      <td>997</td>\n",
       "      <td>TRAFFIC COLLISION</td>\n",
       "      <td>35.0</td>\n",
       "      <td>M</td>\n",
       "      <td>H</td>\n",
       "      <td>101.0</td>\n",
       "      <td>STREET</td>\n",
       "      <td>SAN FERNANDO                 RD</td>\n",
       "      <td>SIERRA                       HY</td>\n",
       "      <td>(34.2752, -118.4603)</td>\n",
       "    </tr>\n",
       "    <tr>\n",
       "      <th>3</th>\n",
       "      <td>190914305</td>\n",
       "      <td>07/26/2019</td>\n",
       "      <td>07/26/2019</td>\n",
       "      <td>1550</td>\n",
       "      <td>9</td>\n",
       "      <td>Van Nuys</td>\n",
       "      <td>919</td>\n",
       "      <td>997</td>\n",
       "      <td>TRAFFIC COLLISION</td>\n",
       "      <td>39.0</td>\n",
       "      <td>F</td>\n",
       "      <td>B</td>\n",
       "      <td>101.0</td>\n",
       "      <td>STREET</td>\n",
       "      <td>WOODMAN</td>\n",
       "      <td>VANOWEN</td>\n",
       "      <td>(34.194, -118.4312)</td>\n",
       "    </tr>\n",
       "    <tr>\n",
       "      <th>4</th>\n",
       "      <td>190714229</td>\n",
       "      <td>07/26/2019</td>\n",
       "      <td>07/26/2019</td>\n",
       "      <td>1425</td>\n",
       "      <td>7</td>\n",
       "      <td>Wilshire</td>\n",
       "      <td>758</td>\n",
       "      <td>997</td>\n",
       "      <td>TRAFFIC COLLISION</td>\n",
       "      <td>24.0</td>\n",
       "      <td>F</td>\n",
       "      <td>H</td>\n",
       "      <td>108.0</td>\n",
       "      <td>PARKING LOT</td>\n",
       "      <td>PICO                         BL</td>\n",
       "      <td>QUEEN ANNE</td>\n",
       "      <td>(34.0485, -118.3334)</td>\n",
       "    </tr>\n",
       "  </tbody>\n",
       "</table>\n",
       "</div>"
      ],
      "text/plain": [
       "   DR Number Date Reported Date Occurred  Time Occurred  Area ID Area Name  \\\n",
       "0  190914310    07/26/2019    07/26/2019           1440        9  Van Nuys   \n",
       "1  191914015    07/26/2019    07/26/2019           1850       19   Mission   \n",
       "2  191913983    07/26/2019    07/26/2019            310       19   Mission   \n",
       "3  190914305    07/26/2019    07/26/2019           1550        9  Van Nuys   \n",
       "4  190714229    07/26/2019    07/26/2019           1425        7  Wilshire   \n",
       "\n",
       "   Reporting District  Crime Code Crime Code Description  Victim Age  \\\n",
       "0                 932         997      TRAFFIC COLLISION        17.0   \n",
       "1                1944         997      TRAFFIC COLLISION        63.0   \n",
       "2                1935         997      TRAFFIC COLLISION        35.0   \n",
       "3                 919         997      TRAFFIC COLLISION        39.0   \n",
       "4                 758         997      TRAFFIC COLLISION        24.0   \n",
       "\n",
       "  Victim Sex Victim Descent  Premise Code Premise Description  \\\n",
       "0          F              O         101.0              STREET   \n",
       "1          M              H         101.0              STREET   \n",
       "2          M              H         101.0              STREET   \n",
       "3          F              B         101.0              STREET   \n",
       "4          F              H         108.0         PARKING LOT   \n",
       "\n",
       "                           Address                     Cross Street  \\\n",
       "0                           KESTER  FRIAR                        ST   \n",
       "1  LAUREL CANYON                BL  BRAND                        ST   \n",
       "2  SAN FERNANDO                 RD  SIERRA                       HY   \n",
       "3                          WOODMAN                          VANOWEN   \n",
       "4  PICO                         BL                       QUEEN ANNE   \n",
       "\n",
       "               Location  \n",
       "0  (34.1857, -118.4575)  \n",
       "1  (34.2748, -118.4492)  \n",
       "2  (34.2752, -118.4603)  \n",
       "3   (34.194, -118.4312)  \n",
       "4  (34.0485, -118.3334)  "
      ]
     },
     "execution_count": 9,
     "metadata": {},
     "output_type": "execute_result"
    }
   ],
   "source": [
    "data.head()"
   ]
  },
  {
   "cell_type": "code",
   "execution_count": 28,
   "metadata": {},
   "outputs": [
    {
     "data": {
      "text/plain": [
       "TRAFFIC COLLISION    482651\n",
       "Name: Crime Code Description, dtype: int64"
      ]
     },
     "execution_count": 28,
     "metadata": {},
     "output_type": "execute_result"
    }
   ],
   "source": [
    "data['Crime Code Description'].value_counts()"
   ]
  },
  {
   "cell_type": "code",
   "execution_count": 30,
   "metadata": {},
   "outputs": [],
   "source": [
    "data_clean = data.drop(['Date Reported', 'Date Occurred', 'Crime Code Description'], axis=1)"
   ]
  },
  {
   "cell_type": "code",
   "execution_count": 31,
   "metadata": {},
   "outputs": [],
   "source": [
    "train_full = data_clean[200000:]"
   ]
  },
  {
   "cell_type": "code",
   "execution_count": 32,
   "metadata": {},
   "outputs": [],
   "source": [
    "test_full = data_clean[:200000]"
   ]
  },
  {
   "cell_type": "markdown",
   "metadata": {},
   "source": [
    "Goals for this project:\n",
    "- Learn and understand time series \n",
    "- Predict something valuable and interesitng\n",
    "- Maybe work through some regression problems"
   ]
  },
  {
   "cell_type": "markdown",
   "metadata": {},
   "source": [
    "Next Steps:\n",
    "- Define Target\n",
    "- Use Time Series to understand when traffic accidents are more likely to happen."
   ]
  },
  {
   "cell_type": "code",
   "execution_count": 14,
   "metadata": {},
   "outputs": [],
   "source": [
    "train_target = train_full['Area Name']"
   ]
  },
  {
   "cell_type": "code",
   "execution_count": 15,
   "metadata": {},
   "outputs": [],
   "source": [
    "train_preds = train_full.drop(['Area Name'], axis=1)"
   ]
  },
  {
   "cell_type": "code",
   "execution_count": 26,
   "metadata": {},
   "outputs": [],
   "source": [
    "#rfc.fit(X_train, y_train)"
   ]
  },
  {
   "cell_type": "code",
   "execution_count": 27,
   "metadata": {},
   "outputs": [
    {
     "name": "stdout",
     "output_type": "stream",
     "text": [
      "<class 'pandas.core.frame.DataFrame'>\n",
      "RangeIndex: 282651 entries, 200000 to 482650\n",
      "Data columns (total 16 columns):\n",
      "DR Number                 282651 non-null int64\n",
      "Date Reported             282651 non-null object\n",
      "Date Occurred             282651 non-null object\n",
      "Time Occurred             282651 non-null int64\n",
      "Area ID                   282651 non-null int64\n",
      "Reporting District        282651 non-null int64\n",
      "Crime Code                282651 non-null int64\n",
      "Crime Code Description    282651 non-null object\n",
      "Victim Age                236074 non-null float64\n",
      "Victim Sex                278800 non-null object\n",
      "Victim Descent            278566 non-null object\n",
      "Premise Code              282627 non-null float64\n",
      "Premise Description       282627 non-null object\n",
      "Address                   282651 non-null object\n",
      "Cross Street              271057 non-null object\n",
      "Location                  282651 non-null object\n",
      "dtypes: float64(2), int64(5), object(9)\n",
      "memory usage: 34.5+ MB\n"
     ]
    }
   ],
   "source": [
    "train_preds.info()"
   ]
  },
  {
   "cell_type": "markdown",
   "metadata": {},
   "source": [
    "## Pipeline Creation"
   ]
  },
  {
   "cell_type": "code",
   "execution_count": 33,
   "metadata": {},
   "outputs": [],
   "source": [
    "numeric_values = list(train_preds.select_dtypes(exclude='object'))"
   ]
  },
  {
   "cell_type": "code",
   "execution_count": 36,
   "metadata": {},
   "outputs": [],
   "source": [
    "num_transformer = Pipeline(steps=[('keeper', None)])"
   ]
  },
  {
   "cell_type": "code",
   "execution_count": 37,
   "metadata": {},
   "outputs": [],
   "source": [
    "cat_values = list(train_preds.select_dtypes(include='object'))"
   ]
  },
  {
   "cell_type": "code",
   "execution_count": 38,
   "metadata": {},
   "outputs": [],
   "source": [
    "cat_transformer = Pipeline(steps=[('onehot', OneHotEncoder())])"
   ]
  },
  {
   "cell_type": "code",
   "execution_count": 51,
   "metadata": {},
   "outputs": [],
   "source": [
    "Preprocessor = ColumnTransformer(transformers=[('numeric', num_transformer, numeric_values),\n",
    "                                ('categorical', cat_transformer, cat_values)])"
   ]
  },
  {
   "cell_type": "code",
   "execution_count": 52,
   "metadata": {},
   "outputs": [],
   "source": [
    "classifiers = [DecisionTreeClassifier(), RandomForestClassifier(n_estimators=100, max_depth=5), #xgb.XGBClassifier(),\n",
    "               GradientBoostingClassifier(n_estimators=100)]       "
   ]
  },
  {
   "cell_type": "code",
   "execution_count": 53,
   "metadata": {},
   "outputs": [],
   "source": [
    "X_train, X_test, y_train, y_test = train_test_split(train_preds, train_target, random_state=10)"
   ]
  },
  {
   "cell_type": "code",
   "execution_count": 54,
   "metadata": {},
   "outputs": [],
   "source": [
    "from sklearn.metrics import f1_score, accuracy_score, roc_auc_score\n",
    "from sklearn.preprocessing import LabelBinarizer\n",
    "\n",
    "def calc_roc_acc_score(y_test, y_pred, average='macro'):\n",
    "    \"\"\"Calculate binary/multiclass AUC\n",
    "       Returns: AUC\n",
    "    \"\"\"\n",
    "    lb = LabelBinarizer()\n",
    "    lb.fit(y_test)\n",
    "    y_test = lb.transform(y_test)\n",
    "    y_pred = lb.transform(y_pred)\n",
    "    return roc_auc_score(y_test, y_pred, average=average)\n",
    "   \n",
    "def calc_acc_and_f1_score(true, preds, model_name='Model Name'):\n",
    "    \"\"\"Calc classification metrics and print them out\n",
    "    \"\"\"\n",
    "    acc = accuracy_score(true, preds)\n",
    "    f1 = f1_score(true, preds, average='weighted')\n",
    "    multi_auc = calc_roc_acc_score(true, preds)\n",
    "    #print('Model:{}'.format(model_name))\n",
    "    print('Accuracy:{:.3f}'.format(acc))\n",
    "    print('F1-Score: {:.3f}'.format(f1))\n",
    "    print('AUC: {:.3f}'.format(multi_auc))"
   ]
  },
  {
   "cell_type": "code",
   "execution_count": 55,
   "metadata": {},
   "outputs": [
    {
     "ename": "TypeError",
     "evalue": "Last step of Pipeline should implement fit. '[DecisionTreeClassifier(class_weight=None, criterion='gini', max_depth=None,\n            max_features=None, max_leaf_nodes=None,\n            min_impurity_decrease=0.0, min_impurity_split=None,\n            min_samples_leaf=1, min_samples_split=2,\n            min_weight_fraction_leaf=0.0, presort=False, random_state=None,\n            splitter='best'), RandomForestClassifier(bootstrap=True, class_weight=None, criterion='gini',\n            max_depth=5, max_features='auto', max_leaf_nodes=None,\n            min_impurity_decrease=0.0, min_impurity_split=None,\n            min_samples_leaf=1, min_samples_split=2,\n            min_weight_fraction_leaf=0.0, n_estimators=100, n_jobs=None,\n            oob_score=False, random_state=None, verbose=0,\n            warm_start=False), GradientBoostingClassifier(criterion='friedman_mse', init=None,\n              learning_rate=0.1, loss='deviance', max_depth=3,\n              max_features=None, max_leaf_nodes=None,\n              min_impurity_decrease=0.0, min_impurity_split=None,\n              min_samples_leaf=1, min_samples_split=2,\n              min_weight_fraction_leaf=0.0, n_estimators=100,\n              n_iter_no_change=None, presort='auto', random_state=None,\n              subsample=1.0, tol=0.0001, validation_fraction=0.1,\n              verbose=0, warm_start=False)]' (type <class 'list'>) doesn't",
     "output_type": "error",
     "traceback": [
      "\u001b[0;31m---------------------------------------------------------------------------\u001b[0m",
      "\u001b[0;31mTypeError\u001b[0m                                 Traceback (most recent call last)",
      "\u001b[0;32m<ipython-input-55-2c5e81a5edf4>\u001b[0m in \u001b[0;36m<module>\u001b[0;34m()\u001b[0m\n\u001b[1;32m      1\u001b[0m \u001b[0;32mfor\u001b[0m \u001b[0mclassifier\u001b[0m \u001b[0;32min\u001b[0m \u001b[0mclassifiers\u001b[0m\u001b[0;34m:\u001b[0m\u001b[0;34m\u001b[0m\u001b[0m\n\u001b[1;32m      2\u001b[0m     clf = Pipeline(steps=[('preprocessor', Preprocessor), \n\u001b[0;32m----> 3\u001b[0;31m                   ('classifiers', classifiers)])\n\u001b[0m\u001b[1;32m      4\u001b[0m     \u001b[0mclf\u001b[0m\u001b[0;34m.\u001b[0m\u001b[0mfit\u001b[0m\u001b[0;34m(\u001b[0m\u001b[0mX_train\u001b[0m\u001b[0;34m,\u001b[0m \u001b[0my_train\u001b[0m\u001b[0;34m)\u001b[0m\u001b[0;34m\u001b[0m\u001b[0m\n\u001b[1;32m      5\u001b[0m     \u001b[0mprint\u001b[0m\u001b[0;34m(\u001b[0m\u001b[0;34m'Training'\u001b[0m\u001b[0;34m)\u001b[0m\u001b[0;34m\u001b[0m\u001b[0m\n",
      "\u001b[0;32m/Applications/anaconda3/envs/learn-env/lib/python3.7/site-packages/sklearn/pipeline.py\u001b[0m in \u001b[0;36m__init__\u001b[0;34m(self, steps, memory)\u001b[0m\n\u001b[1;32m    117\u001b[0m     \u001b[0;32mdef\u001b[0m \u001b[0m__init__\u001b[0m\u001b[0;34m(\u001b[0m\u001b[0mself\u001b[0m\u001b[0;34m,\u001b[0m \u001b[0msteps\u001b[0m\u001b[0;34m,\u001b[0m \u001b[0mmemory\u001b[0m\u001b[0;34m=\u001b[0m\u001b[0;32mNone\u001b[0m\u001b[0;34m)\u001b[0m\u001b[0;34m:\u001b[0m\u001b[0;34m\u001b[0m\u001b[0m\n\u001b[1;32m    118\u001b[0m         \u001b[0mself\u001b[0m\u001b[0;34m.\u001b[0m\u001b[0msteps\u001b[0m \u001b[0;34m=\u001b[0m \u001b[0msteps\u001b[0m\u001b[0;34m\u001b[0m\u001b[0m\n\u001b[0;32m--> 119\u001b[0;31m         \u001b[0mself\u001b[0m\u001b[0;34m.\u001b[0m\u001b[0m_validate_steps\u001b[0m\u001b[0;34m(\u001b[0m\u001b[0;34m)\u001b[0m\u001b[0;34m\u001b[0m\u001b[0m\n\u001b[0m\u001b[1;32m    120\u001b[0m         \u001b[0mself\u001b[0m\u001b[0;34m.\u001b[0m\u001b[0mmemory\u001b[0m \u001b[0;34m=\u001b[0m \u001b[0mmemory\u001b[0m\u001b[0;34m\u001b[0m\u001b[0m\n\u001b[1;32m    121\u001b[0m \u001b[0;34m\u001b[0m\u001b[0m\n",
      "\u001b[0;32m/Applications/anaconda3/envs/learn-env/lib/python3.7/site-packages/sklearn/pipeline.py\u001b[0m in \u001b[0;36m_validate_steps\u001b[0;34m(self)\u001b[0m\n\u001b[1;32m    171\u001b[0m             raise TypeError(\"Last step of Pipeline should implement fit. \"\n\u001b[1;32m    172\u001b[0m                             \u001b[0;34m\"'%s' (type %s) doesn't\"\u001b[0m\u001b[0;34m\u001b[0m\u001b[0m\n\u001b[0;32m--> 173\u001b[0;31m                             % (estimator, type(estimator)))\n\u001b[0m\u001b[1;32m    174\u001b[0m \u001b[0;34m\u001b[0m\u001b[0m\n\u001b[1;32m    175\u001b[0m     \u001b[0;34m@\u001b[0m\u001b[0mproperty\u001b[0m\u001b[0;34m\u001b[0m\u001b[0m\n",
      "\u001b[0;31mTypeError\u001b[0m: Last step of Pipeline should implement fit. '[DecisionTreeClassifier(class_weight=None, criterion='gini', max_depth=None,\n            max_features=None, max_leaf_nodes=None,\n            min_impurity_decrease=0.0, min_impurity_split=None,\n            min_samples_leaf=1, min_samples_split=2,\n            min_weight_fraction_leaf=0.0, presort=False, random_state=None,\n            splitter='best'), RandomForestClassifier(bootstrap=True, class_weight=None, criterion='gini',\n            max_depth=5, max_features='auto', max_leaf_nodes=None,\n            min_impurity_decrease=0.0, min_impurity_split=None,\n            min_samples_leaf=1, min_samples_split=2,\n            min_weight_fraction_leaf=0.0, n_estimators=100, n_jobs=None,\n            oob_score=False, random_state=None, verbose=0,\n            warm_start=False), GradientBoostingClassifier(criterion='friedman_mse', init=None,\n              learning_rate=0.1, loss='deviance', max_depth=3,\n              max_features=None, max_leaf_nodes=None,\n              min_impurity_decrease=0.0, min_impurity_split=None,\n              min_samples_leaf=1, min_samples_split=2,\n              min_weight_fraction_leaf=0.0, n_estimators=100,\n              n_iter_no_change=None, presort='auto', random_state=None,\n              subsample=1.0, tol=0.0001, validation_fraction=0.1,\n              verbose=0, warm_start=False)]' (type <class 'list'>) doesn't"
     ]
    }
   ],
   "source": [
    "for classifier in classifiers:\n",
    "    clf = Pipeline(steps=[('preprocessor', Preprocessor),\n",
    "                          ('classifier', classifier)])\n",
    "    clf.fit(X_train, y_train)\n",
    "    print('Training')\n",
    "    calc_acc_and_f1_score(y_train, clf.predict(X_train))\n",
    "    print('Testing')\n",
    "    calc_acc_and_f1_score(y_test, clf.predict(X_test))\n",
    "    "
   ]
  },
  {
   "cell_type": "code",
   "execution_count": null,
   "metadata": {},
   "outputs": [],
   "source": []
  }
 ],
 "metadata": {
  "kernelspec": {
   "display_name": "learn-env",
   "language": "python",
   "name": "learn-env"
  },
  "language_info": {
   "codemirror_mode": {
    "name": "ipython",
    "version": 3
   },
   "file_extension": ".py",
   "mimetype": "text/x-python",
   "name": "python",
   "nbconvert_exporter": "python",
   "pygments_lexer": "ipython3",
   "version": "3.7.0"
  }
 },
 "nbformat": 4,
 "nbformat_minor": 2
}
